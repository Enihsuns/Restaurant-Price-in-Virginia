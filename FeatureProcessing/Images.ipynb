{
 "cells": [
  {
   "cell_type": "markdown",
   "metadata": {},
   "source": [
    "## 1. Get the image data"
   ]
  },
  {
   "cell_type": "code",
   "execution_count": 1,
   "metadata": {},
   "outputs": [
    {
     "data": {
      "text/html": [
       "<div>\n",
       "<style scoped>\n",
       "    .dataframe tbody tr th:only-of-type {\n",
       "        vertical-align: middle;\n",
       "    }\n",
       "\n",
       "    .dataframe tbody tr th {\n",
       "        vertical-align: top;\n",
       "    }\n",
       "\n",
       "    .dataframe thead th {\n",
       "        text-align: right;\n",
       "    }\n",
       "</style>\n",
       "<table border=\"1\" class=\"dataframe\">\n",
       "  <thead>\n",
       "    <tr style=\"text-align: right;\">\n",
       "      <th></th>\n",
       "      <th>id</th>\n",
       "      <th>name</th>\n",
       "      <th>image_url</th>\n",
       "      <th>price</th>\n",
       "    </tr>\n",
       "  </thead>\n",
       "  <tbody>\n",
       "    <tr>\n",
       "      <th>0</th>\n",
       "      <td>bwCj2AcoOroZfCTxb6rCcg</td>\n",
       "      <td>A Better Burger</td>\n",
       "      <td>https://s3-media2.fl.yelpcdn.com/bphoto/3KS3Xs...</td>\n",
       "      <td>2</td>\n",
       "    </tr>\n",
       "    <tr>\n",
       "      <th>1</th>\n",
       "      <td>S9S9kFJSkmfpbjFForCWLQ</td>\n",
       "      <td>El Castillo</td>\n",
       "      <td>https://s3-media1.fl.yelpcdn.com/bphoto/NGC_GJ...</td>\n",
       "      <td>1</td>\n",
       "    </tr>\n",
       "    <tr>\n",
       "      <th>2</th>\n",
       "      <td>np8uV1xll22Yr-Q-B-ImkA</td>\n",
       "      <td>Rooster's Pub</td>\n",
       "      <td></td>\n",
       "      <td>1</td>\n",
       "    </tr>\n",
       "    <tr>\n",
       "      <th>3</th>\n",
       "      <td>HGY1ojoLu07P_ky2LeRguQ</td>\n",
       "      <td>Redstone Restaurant</td>\n",
       "      <td>https://s3-media4.fl.yelpcdn.com/bphoto/BcdFv7...</td>\n",
       "      <td>1</td>\n",
       "    </tr>\n",
       "    <tr>\n",
       "      <th>4</th>\n",
       "      <td>J5XS3VmxnLKhNlpiwDJ-3A</td>\n",
       "      <td>Little Mexico</td>\n",
       "      <td>https://s3-media4.fl.yelpcdn.com/bphoto/P_X-58...</td>\n",
       "      <td>1</td>\n",
       "    </tr>\n",
       "  </tbody>\n",
       "</table>\n",
       "</div>"
      ],
      "text/plain": [
       "                       id                 name  \\\n",
       "0  bwCj2AcoOroZfCTxb6rCcg      A Better Burger   \n",
       "1  S9S9kFJSkmfpbjFForCWLQ          El Castillo   \n",
       "2  np8uV1xll22Yr-Q-B-ImkA        Rooster's Pub   \n",
       "3  HGY1ojoLu07P_ky2LeRguQ  Redstone Restaurant   \n",
       "4  J5XS3VmxnLKhNlpiwDJ-3A        Little Mexico   \n",
       "\n",
       "                                           image_url  price  \n",
       "0  https://s3-media2.fl.yelpcdn.com/bphoto/3KS3Xs...      2  \n",
       "1  https://s3-media1.fl.yelpcdn.com/bphoto/NGC_GJ...      1  \n",
       "2                                                         1  \n",
       "3  https://s3-media4.fl.yelpcdn.com/bphoto/BcdFv7...      1  \n",
       "4  https://s3-media4.fl.yelpcdn.com/bphoto/P_X-58...      1  "
      ]
     },
     "execution_count": 1,
     "metadata": {},
     "output_type": "execute_result"
    }
   ],
   "source": [
    "import os\n",
    "import pickle\n",
    "import pandas as pd\n",
    "\n",
    "data_file = '../Dataset/image_data'\n",
    "with open(data_file, 'rb') as inFile:\n",
    "    data = pickle.load(inFile)\n",
    "data.head()"
   ]
  },
  {
   "cell_type": "code",
   "execution_count": 2,
   "metadata": {
    "collapsed": true
   },
   "outputs": [],
   "source": [
    "from PIL import Image\n",
    "import numpy as np\n",
    "from sklearn.model_selection import train_test_split\n",
    "\n",
    "train_set, test_set = train_test_split(data, test_size=0.2, random_state=42)\n",
    "\n",
    "img_dir_old='../Dataset/Image'\n",
    "files = os.listdir(img_dir_old)\n",
    "\n",
    "img_dir='../Dataset/img'\n",
    "train_path = os.path.join(img_dir, 'train')\n",
    "test_path = os.path.join(img_dir, 'test')\n",
    "\n",
    "for i in range(1, 5):\n",
    "    if not os.path.exists(os.path.join(train_path, str(i))):\n",
    "        os.makedirs(os.path.join(train_path, str(i)))\n",
    "    if not os.path.exists(os.path.join(test_path, str(i))):\n",
    "        os.makedirs(os.path.join(test_path, str(i)))\n",
    "    \n",
    "\n",
    "train_id_list = []\n",
    "test_id_list = []\n",
    "for file in files:\n",
    "    fname = file[:-4]\n",
    "    for i in range(len(data)):\n",
    "        if fname == data.iloc[i,0]:\n",
    "            if fname in train_set.id.values:\n",
    "                train_id_list.append(fname)\n",
    "                img = Image.open(os.path.join(img_dir_old, file))\n",
    "                img.save(os.path.join(train_path+'/'+str(data.iloc[i,3]), file))\n",
    "            elif fname in test_set.id.values:\n",
    "                test_id_list.append(fname)\n",
    "                img = Image.open(os.path.join(img_dir_old, file))\n",
    "                img.save(os.path.join(test_path+'/'+str(data.iloc[i,3]), file))"
   ]
  },
  {
   "cell_type": "code",
   "execution_count": 3,
   "metadata": {},
   "outputs": [
    {
     "name": "stdout",
     "output_type": "stream",
     "text": [
      "Train_set size: 3891\n",
      "Test_set size: 973\n"
     ]
    }
   ],
   "source": [
    "print('Train_set size:',len(train_id_list))\n",
    "print('Test_set size:',len(test_id_list))"
   ]
  },
  {
   "cell_type": "markdown",
   "metadata": {},
   "source": [
    "## 2. Train the image classifier"
   ]
  },
  {
   "cell_type": "code",
   "execution_count": 1,
   "metadata": {},
   "outputs": [
    {
     "name": "stderr",
     "output_type": "stream",
     "text": [
      "D:\\anaconda3\\lib\\site-packages\\h5py\\__init__.py:34: FutureWarning: Conversion of the second argument of issubdtype from `float` to `np.floating` is deprecated. In future, it will be treated as `np.float64 == np.dtype(float).type`.\n",
      "  from ._conv import register_converters as _register_converters\n",
      "Using TensorFlow backend.\n"
     ]
    },
    {
     "name": "stdout",
     "output_type": "stream",
     "text": [
      "_________________________________________________________________\n",
      "Layer (type)                 Output Shape              Param #   \n",
      "=================================================================\n",
      "input_1 (InputLayer)         (None, 150, 150, 3)       0         \n",
      "_________________________________________________________________\n",
      "block1_conv1 (Conv2D)        (None, 150, 150, 64)      1792      \n",
      "_________________________________________________________________\n",
      "block1_conv2 (Conv2D)        (None, 150, 150, 64)      36928     \n",
      "_________________________________________________________________\n",
      "block1_pool (MaxPooling2D)   (None, 75, 75, 64)        0         \n",
      "_________________________________________________________________\n",
      "block2_conv1 (Conv2D)        (None, 75, 75, 128)       73856     \n",
      "_________________________________________________________________\n",
      "block2_conv2 (Conv2D)        (None, 75, 75, 128)       147584    \n",
      "_________________________________________________________________\n",
      "block2_pool (MaxPooling2D)   (None, 37, 37, 128)       0         \n",
      "_________________________________________________________________\n",
      "block3_conv1 (Conv2D)        (None, 37, 37, 256)       295168    \n",
      "_________________________________________________________________\n",
      "block3_conv2 (Conv2D)        (None, 37, 37, 256)       590080    \n",
      "_________________________________________________________________\n",
      "block3_conv3 (Conv2D)        (None, 37, 37, 256)       590080    \n",
      "_________________________________________________________________\n",
      "block3_pool (MaxPooling2D)   (None, 18, 18, 256)       0         \n",
      "_________________________________________________________________\n",
      "block4_conv1 (Conv2D)        (None, 18, 18, 512)       1180160   \n",
      "_________________________________________________________________\n",
      "block4_conv2 (Conv2D)        (None, 18, 18, 512)       2359808   \n",
      "_________________________________________________________________\n",
      "block4_conv3 (Conv2D)        (None, 18, 18, 512)       2359808   \n",
      "_________________________________________________________________\n",
      "block4_pool (MaxPooling2D)   (None, 9, 9, 512)         0         \n",
      "_________________________________________________________________\n",
      "block5_conv1 (Conv2D)        (None, 9, 9, 512)         2359808   \n",
      "_________________________________________________________________\n",
      "block5_conv2 (Conv2D)        (None, 9, 9, 512)         2359808   \n",
      "_________________________________________________________________\n",
      "block5_conv3 (Conv2D)        (None, 9, 9, 512)         2359808   \n",
      "_________________________________________________________________\n",
      "block5_pool (MaxPooling2D)   (None, 4, 4, 512)         0         \n",
      "=================================================================\n",
      "Total params: 14,714,688\n",
      "Trainable params: 14,714,688\n",
      "Non-trainable params: 0\n",
      "_________________________________________________________________\n"
     ]
    }
   ],
   "source": [
    "# Instantiate the VGG16 convolutional base\n",
    "from keras.applications import VGG16\n",
    "\n",
    "conv_base=VGG16(weights='imagenet', include_top=False, input_shape=(150,150,3))\n",
    "# weights: specify which weight checkpoint to initialize the model from\n",
    "# include_top: include or not the densely-connected classifier on top of the network\n",
    "# input_shape: the shape of image tensors that will feed to the network\n",
    "\n",
    "conv_base.summary()"
   ]
  },
  {
   "cell_type": "code",
   "execution_count": 5,
   "metadata": {},
   "outputs": [
    {
     "name": "stdout",
     "output_type": "stream",
     "text": [
      "Found 3891 images belonging to 4 classes.\n",
      "Found 973 images belonging to 4 classes.\n"
     ]
    }
   ],
   "source": [
    "# Extract features using the pretrained convolutional base\n",
    "import numpy as np\n",
    "from keras.preprocessing.image import ImageDataGenerator\n",
    "\n",
    "img_dir='../Dataset/img'\n",
    "train_path = os.path.join(img_dir, 'train')\n",
    "test_path = os.path.join(img_dir, 'test')\n",
    "\n",
    "datagen=ImageDataGenerator(rescale=1./255)\n",
    "batch_size=100\n",
    "\n",
    "def extract_features(directory, sample_count):\n",
    "    features=np.zeros(shape=(sample_count, 4, 4, 512))\n",
    "    labels=np.zeros(shape=(sample_count))\n",
    "    generator=datagen.flow_from_directory(directory,target_size=(150,150),batch_size=batch_size,class_mode='sparse')\n",
    "    i=0\n",
    "    for inputs_batch, labels_batch in generator:\n",
    "        features_batch=conv_base.predict(inputs_batch)\n",
    "        if len(features_batch)!=batch_size:\n",
    "            features[i*batch_size:i*batch_size+len(features_batch)]=features_batch\n",
    "            labels[i*batch_size:i*batch_size+len(features_batch)]=labels_batch\n",
    "        else:\n",
    "            features[i*batch_size:(i+1)*batch_size]=features_batch\n",
    "            labels[i*batch_size:(i+1)*batch_size]=labels_batch\n",
    "        i+=1\n",
    "        if i*batch_size>=sample_count:\n",
    "            break\n",
    "    return features, labels\n",
    "\n",
    "train_features, train_labels=extract_features(train_path, len(train_id_list))\n",
    "test_features, test_labels=extract_features(test_path, len(test_id_list))"
   ]
  },
  {
   "cell_type": "code",
   "execution_count": 6,
   "metadata": {
    "collapsed": true
   },
   "outputs": [],
   "source": [
    "# Flatten the features\n",
    "train_features=np.reshape(train_features, (len(train_id_list),4*4*512))\n",
    "test_features=np.reshape(test_features, (len(test_id_list),4*4*512))"
   ]
  },
  {
   "cell_type": "code",
   "execution_count": 7,
   "metadata": {},
   "outputs": [
    {
     "data": {
      "text/html": [
       "<div>\n",
       "<style scoped>\n",
       "    .dataframe tbody tr th:only-of-type {\n",
       "        vertical-align: middle;\n",
       "    }\n",
       "\n",
       "    .dataframe tbody tr th {\n",
       "        vertical-align: top;\n",
       "    }\n",
       "\n",
       "    .dataframe thead th {\n",
       "        text-align: right;\n",
       "    }\n",
       "</style>\n",
       "<table border=\"1\" class=\"dataframe\">\n",
       "  <thead>\n",
       "    <tr style=\"text-align: right;\">\n",
       "      <th></th>\n",
       "      <th>id</th>\n",
       "      <th>name</th>\n",
       "      <th>categories</th>\n",
       "      <th>rating</th>\n",
       "      <th>review_count</th>\n",
       "      <th>price</th>\n",
       "    </tr>\n",
       "  </thead>\n",
       "  <tbody>\n",
       "    <tr>\n",
       "      <th>0</th>\n",
       "      <td>bwCj2AcoOroZfCTxb6rCcg</td>\n",
       "      <td>A Better Burger</td>\n",
       "      <td>[{'alias': 'burgers', 'title': 'Burgers'}, {'a...</td>\n",
       "      <td>3.5</td>\n",
       "      <td>6</td>\n",
       "      <td>2</td>\n",
       "    </tr>\n",
       "    <tr>\n",
       "      <th>1</th>\n",
       "      <td>S9S9kFJSkmfpbjFForCWLQ</td>\n",
       "      <td>El Castillo</td>\n",
       "      <td>[{'alias': 'mexican', 'title': 'Mexican'}]</td>\n",
       "      <td>4.0</td>\n",
       "      <td>2</td>\n",
       "      <td>1</td>\n",
       "    </tr>\n",
       "    <tr>\n",
       "      <th>2</th>\n",
       "      <td>np8uV1xll22Yr-Q-B-ImkA</td>\n",
       "      <td>Rooster's Pub</td>\n",
       "      <td>[{'alias': 'restaurants', 'title': 'Restaurant...</td>\n",
       "      <td>4.5</td>\n",
       "      <td>4</td>\n",
       "      <td>1</td>\n",
       "    </tr>\n",
       "    <tr>\n",
       "      <th>3</th>\n",
       "      <td>HGY1ojoLu07P_ky2LeRguQ</td>\n",
       "      <td>Redstone Restaurant</td>\n",
       "      <td>[{'alias': 'newamerican', 'title': 'American (...</td>\n",
       "      <td>4.5</td>\n",
       "      <td>3</td>\n",
       "      <td>1</td>\n",
       "    </tr>\n",
       "    <tr>\n",
       "      <th>4</th>\n",
       "      <td>J5XS3VmxnLKhNlpiwDJ-3A</td>\n",
       "      <td>Little Mexico</td>\n",
       "      <td>[{'alias': 'mexican', 'title': 'Mexican'}]</td>\n",
       "      <td>4.0</td>\n",
       "      <td>5</td>\n",
       "      <td>1</td>\n",
       "    </tr>\n",
       "  </tbody>\n",
       "</table>\n",
       "</div>"
      ],
      "text/plain": [
       "                       id                 name  \\\n",
       "0  bwCj2AcoOroZfCTxb6rCcg      A Better Burger   \n",
       "1  S9S9kFJSkmfpbjFForCWLQ          El Castillo   \n",
       "2  np8uV1xll22Yr-Q-B-ImkA        Rooster's Pub   \n",
       "3  HGY1ojoLu07P_ky2LeRguQ  Redstone Restaurant   \n",
       "4  J5XS3VmxnLKhNlpiwDJ-3A        Little Mexico   \n",
       "\n",
       "                                          categories  rating  review_count  \\\n",
       "0  [{'alias': 'burgers', 'title': 'Burgers'}, {'a...     3.5             6   \n",
       "1         [{'alias': 'mexican', 'title': 'Mexican'}]     4.0             2   \n",
       "2  [{'alias': 'restaurants', 'title': 'Restaurant...     4.5             4   \n",
       "3  [{'alias': 'newamerican', 'title': 'American (...     4.5             3   \n",
       "4         [{'alias': 'mexican', 'title': 'Mexican'}]     4.0             5   \n",
       "\n",
       "   price  \n",
       "0      2  \n",
       "1      1  \n",
       "2      1  \n",
       "3      1  \n",
       "4      1  "
      ]
     },
     "metadata": {},
     "output_type": "display_data"
    }
   ],
   "source": [
    "# combine the image features with numerical data\n",
    "data_file = '../Dataset/categories_data'\n",
    "with open(data_file, 'rb') as inFile:\n",
    "    num_data = pickle.load(inFile)\n",
    "display(num_data.head())\n",
    "\n",
    "train_rating = []\n",
    "train_review = []\n",
    "for idx in train_id_list:\n",
    "    for i in range(len(num_data)):\n",
    "        if idx==num_data.iloc[i,0]:\n",
    "            train_rating.append(num_data.iloc[i,3])\n",
    "            train_review.append(num_data.iloc[i,4])\n",
    "test_rating = []\n",
    "test_review = []\n",
    "for idx in test_id_list:\n",
    "    for i in range(len(num_data)):\n",
    "        if idx==num_data.iloc[i,0]:\n",
    "            test_rating.append(num_data.iloc[i,3])\n",
    "            test_review.append(num_data.iloc[i,4])\n",
    "\n",
    "train_num = pd.DataFrame()\n",
    "train_num['rating']=train_rating\n",
    "train_num['review']=train_review\n",
    "test_num = pd.DataFrame()\n",
    "test_num['rating']=test_rating\n",
    "test_num['review']=test_review\n",
    "X_train = np.hstack((train_num.values, train_features))\n",
    "X_test = np.hstack((test_num.values, test_features))"
   ]
  },
  {
   "cell_type": "code",
   "execution_count": 8,
   "metadata": {},
   "outputs": [
    {
     "name": "stdout",
     "output_type": "stream",
     "text": [
      "MLPClassifier Avg_Acc: 0.5728588533657042\n",
      "              precision    recall  f1-score   support\n",
      "\n",
      "           $       0.45      0.47      0.46       353\n",
      "          $$       0.64      0.66      0.65       585\n",
      "         $$$       0.00      0.00      0.00        33\n",
      "        $$$$       0.00      0.00      0.00         2\n",
      "\n",
      "   micro avg       0.57      0.57      0.57       973\n",
      "   macro avg       0.27      0.28      0.28       973\n",
      "weighted avg       0.55      0.57      0.56       973\n",
      "\n"
     ]
    },
    {
     "name": "stderr",
     "output_type": "stream",
     "text": [
      "C:\\Users\\think\\AppData\\Roaming\\Python\\Python36\\site-packages\\sklearn\\metrics\\classification.py:1143: UndefinedMetricWarning: Precision and F-score are ill-defined and being set to 0.0 in labels with no predicted samples.\n",
      "  'precision', 'predicted', average, warn_for)\n"
     ]
    }
   ],
   "source": [
    "# Train a MLP classifier\n",
    "from sklearn.neural_network import MLPClassifier\n",
    "from sklearn.model_selection import cross_val_score\n",
    "from sklearn.metrics import classification_report\n",
    "\n",
    "nn = MLPClassifier(max_iter=10000)\n",
    "nn.fit(X_train, train_labels)\n",
    "nn_scores = cross_val_score(nn, X_train, train_labels, cv=5)\n",
    "print('MLPClassifier Avg_Acc:', np.mean(nn_scores))\n",
    "target_names = ['$', '$$', '$$$', '$$$$']\n",
    "print(classification_report(test_labels, nn.predict(X_test), target_names=target_names))"
   ]
  },
  {
   "cell_type": "code",
   "execution_count": 9,
   "metadata": {},
   "outputs": [
    {
     "name": "stdout",
     "output_type": "stream",
     "text": [
      "Train on 3112 samples, validate on 779 samples\n",
      "Epoch 1/10\n",
      "3112/3112 [==============================] - 4s 1ms/step - loss: 0.7028 - acc: 0.5566 - val_loss: 0.6263 - val_acc: 0.6252\n",
      "Epoch 2/10\n",
      "3112/3112 [==============================] - 4s 1ms/step - loss: 0.6319 - acc: 0.5819 - val_loss: 0.6165 - val_acc: 0.6226\n",
      "Epoch 3/10\n",
      "3112/3112 [==============================] - 4s 1ms/step - loss: 0.5923 - acc: 0.6089 - val_loss: 0.6121 - val_acc: 0.6252\n",
      "Epoch 4/10\n",
      "3112/3112 [==============================] - 4s 1ms/step - loss: 0.5835 - acc: 0.6256 - val_loss: 0.6195 - val_acc: 0.6226\n",
      "Epoch 5/10\n",
      "3112/3112 [==============================] - 4s 1ms/step - loss: 0.5503 - acc: 0.6452 - val_loss: 0.6046 - val_acc: 0.6367\n",
      "Epoch 6/10\n",
      "3112/3112 [==============================] - 4s 1ms/step - loss: 0.5263 - acc: 0.6616 - val_loss: 0.6021 - val_acc: 0.6431\n",
      "Epoch 7/10\n",
      "3112/3112 [==============================] - 4s 1ms/step - loss: 0.5170 - acc: 0.6648 - val_loss: 0.6024 - val_acc: 0.6470\n",
      "Epoch 8/10\n",
      "3112/3112 [==============================] - 4s 1ms/step - loss: 0.4952 - acc: 0.6684 - val_loss: 0.6006 - val_acc: 0.6496\n",
      "Epoch 9/10\n",
      "3112/3112 [==============================] - 4s 1ms/step - loss: 0.4832 - acc: 0.6812 - val_loss: 0.5987 - val_acc: 0.6470\n",
      "Epoch 10/10\n",
      "3112/3112 [==============================] - 4s 1ms/step - loss: 0.4635 - acc: 0.6838 - val_loss: 0.6047 - val_acc: 0.6483\n"
     ]
    }
   ],
   "source": [
    "# Train a densely-connected neural network classifier\n",
    "from keras import models\n",
    "from keras import layers\n",
    "from keras import optimizers\n",
    "\n",
    "model=models.Sequential()\n",
    "model.add(layers.Dense(256, activation='relu', input_dim=4*4*512))\n",
    "model.add(layers.Dropout(0.5))\n",
    "model.add(layers.Dense(1, activation='sigmoid'))\n",
    "\n",
    "model.compile(optimizer=optimizers.RMSprop(lr=2e-5), loss='binary_crossentropy', metrics=['acc'])\n",
    "history=model.fit(train_features, train_labels, epochs=10, batch_size=32, validation_split=0.2)"
   ]
  },
  {
   "cell_type": "code",
   "execution_count": 10,
   "metadata": {},
   "outputs": [
    {
     "data": {
      "image/png": "[encoded data removed]",
      "text/plain": [
       "<Figure size 432x288 with 1 Axes>"
      ]
     },
     "metadata": {},
     "output_type": "display_data"
    },
    {
     "data": {
      "image/png": "[encoded data removed]",
      "text/plain": [
       "<Figure size 432x288 with 1 Axes>"
      ]
     },
     "metadata": {},
     "output_type": "display_data"
    }
   ],
   "source": [
    "# Plot the results\n",
    "import matplotlib.pyplot as plt\n",
    "\n",
    "acc=history.history['acc']\n",
    "val_acc=history.history['val_acc']\n",
    "loss=history.history['loss']\n",
    "val_loss=history.history['val_loss']\n",
    "\n",
    "epochs=range(1,len(acc)+1)\n",
    "\n",
    "plt.plot(epochs,acc,'bo',label='Training acc')\n",
    "plt.plot(epochs,val_acc,'b',label='Validation acc')\n",
    "plt.title('Training and Validation Accuracy')\n",
    "plt.legend()\n",
    "\n",
    "plt.figure()\n",
    "plt.plot(epochs,loss,'bo',label='Training loss')\n",
    "plt.plot(epochs,val_loss,'b',label='Validation loss')\n",
    "plt.title('Training and Validation Loss')\n",
    "plt.legend()\n",
    "plt.show()"
   ]
  },
  {
   "cell_type": "code",
   "execution_count": 11,
   "metadata": {},
   "outputs": [
    {
     "name": "stdout",
     "output_type": "stream",
     "text": [
      "973/973 [==============================] - 0s 208us/step\n"
     ]
    }
   ],
   "source": [
    "result = model.evaluate(test_features, test_labels)\n",
    "model.save('models/image_clf.h5')"
   ]
  },
  {
   "cell_type": "code",
   "execution_count": 12,
   "metadata": {},
   "outputs": [
    {
     "name": "stdout",
     "output_type": "stream",
     "text": [
      "[0.5656316899077131, 0.6341212744396735]\n"
     ]
    }
   ],
   "source": [
    "print(result)"
   ]
  },
  {
   "cell_type": "code",
   "execution_count": null,
   "metadata": {
    "collapsed": true
   },
   "outputs": [],
   "source": []
  }
 ],
 "metadata": {
  "kernelspec": {
   "display_name": "Python 3",
   "language": "python",
   "name": "python3"
  },
  "language_info": {
   "codemirror_mode": {
    "name": "ipython",
    "version": 3
   },
   "file_extension": ".py",
   "mimetype": "text/x-python",
   "name": "python",
   "nbconvert_exporter": "python",
   "pygments_lexer": "ipython3",
   "version": "3.6.3"
  }
 },
 "nbformat": 4,
 "nbformat_minor": 2
}
