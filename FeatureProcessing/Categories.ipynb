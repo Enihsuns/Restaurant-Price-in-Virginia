{
 "cells": [
  {
   "cell_type": "markdown",
   "metadata": {},
   "source": [
    "# Categories\n",
    "\n",
    "This file contains the processing of categories data in the yelp restaurant dataset.\n",
    "\n",
    "**Goal:** Provide a categories_processing function, which can be used in main.ipynb."
   ]
  },
  {
   "cell_type": "markdown",
   "metadata": {},
   "source": [
    "## 1. Get the categories dataset\n",
    "\n",
    "The categories dataset only contains price, rating, review_count, name, id, categories columns. Extraction of this dataset is shown in main.ipynb."
   ]
  },
  {
   "cell_type": "code",
   "execution_count": 1,
   "metadata": {},
   "outputs": [
    {
     "data": {
      "text/html": [
       "<div>\n",
       "<style scoped>\n",
       "    .dataframe tbody tr th:only-of-type {\n",
       "        vertical-align: middle;\n",
       "    }\n",
       "\n",
       "    .dataframe tbody tr th {\n",
       "        vertical-align: top;\n",
       "    }\n",
       "\n",
       "    .dataframe thead th {\n",
       "        text-align: right;\n",
       "    }\n",
       "</style>\n",
       "<table border=\"1\" class=\"dataframe\">\n",
       "  <thead>\n",
       "    <tr style=\"text-align: right;\">\n",
       "      <th></th>\n",
       "      <th>id</th>\n",
       "      <th>name</th>\n",
       "      <th>categories</th>\n",
       "      <th>rating</th>\n",
       "      <th>review_count</th>\n",
       "      <th>price</th>\n",
       "    </tr>\n",
       "  </thead>\n",
       "  <tbody>\n",
       "    <tr>\n",
       "      <th>0</th>\n",
       "      <td>bwCj2AcoOroZfCTxb6rCcg</td>\n",
       "      <td>A Better Burger</td>\n",
       "      <td>[{'alias': 'burgers', 'title': 'Burgers'}, {'a...</td>\n",
       "      <td>3.5</td>\n",
       "      <td>6</td>\n",
       "      <td>2</td>\n",
       "    </tr>\n",
       "    <tr>\n",
       "      <th>1</th>\n",
       "      <td>S9S9kFJSkmfpbjFForCWLQ</td>\n",
       "      <td>El Castillo</td>\n",
       "      <td>[{'alias': 'mexican', 'title': 'Mexican'}]</td>\n",
       "      <td>4.0</td>\n",
       "      <td>2</td>\n",
       "      <td>1</td>\n",
       "    </tr>\n",
       "    <tr>\n",
       "      <th>2</th>\n",
       "      <td>np8uV1xll22Yr-Q-B-ImkA</td>\n",
       "      <td>Rooster's Pub</td>\n",
       "      <td>[{'alias': 'restaurants', 'title': 'Restaurant...</td>\n",
       "      <td>4.5</td>\n",
       "      <td>4</td>\n",
       "      <td>1</td>\n",
       "    </tr>\n",
       "    <tr>\n",
       "      <th>3</th>\n",
       "      <td>HGY1ojoLu07P_ky2LeRguQ</td>\n",
       "      <td>Redstone Restaurant</td>\n",
       "      <td>[{'alias': 'newamerican', 'title': 'American (...</td>\n",
       "      <td>4.5</td>\n",
       "      <td>3</td>\n",
       "      <td>1</td>\n",
       "    </tr>\n",
       "    <tr>\n",
       "      <th>4</th>\n",
       "      <td>J5XS3VmxnLKhNlpiwDJ-3A</td>\n",
       "      <td>Little Mexico</td>\n",
       "      <td>[{'alias': 'mexican', 'title': 'Mexican'}]</td>\n",
       "      <td>4.0</td>\n",
       "      <td>5</td>\n",
       "      <td>1</td>\n",
       "    </tr>\n",
       "  </tbody>\n",
       "</table>\n",
       "</div>"
      ],
      "text/plain": [
       "                       id                 name  \\\n",
       "0  bwCj2AcoOroZfCTxb6rCcg      A Better Burger   \n",
       "1  S9S9kFJSkmfpbjFForCWLQ          El Castillo   \n",
       "2  np8uV1xll22Yr-Q-B-ImkA        Rooster's Pub   \n",
       "3  HGY1ojoLu07P_ky2LeRguQ  Redstone Restaurant   \n",
       "4  J5XS3VmxnLKhNlpiwDJ-3A        Little Mexico   \n",
       "\n",
       "                                          categories  rating  review_count  \\\n",
       "0  [{'alias': 'burgers', 'title': 'Burgers'}, {'a...     3.5             6   \n",
       "1         [{'alias': 'mexican', 'title': 'Mexican'}]     4.0             2   \n",
       "2  [{'alias': 'restaurants', 'title': 'Restaurant...     4.5             4   \n",
       "3  [{'alias': 'newamerican', 'title': 'American (...     4.5             3   \n",
       "4         [{'alias': 'mexican', 'title': 'Mexican'}]     4.0             5   \n",
       "\n",
       "   price  \n",
       "0      2  \n",
       "1      1  \n",
       "2      1  \n",
       "3      1  \n",
       "4      1  "
      ]
     },
     "metadata": {},
     "output_type": "display_data"
    },
    {
     "name": "stdout",
     "output_type": "stream",
     "text": [
      "train_data.shape: (4095, 6)\n",
      "test_data.shape: (1024, 6)\n"
     ]
    }
   ],
   "source": [
    "import pickle\n",
    "import numpy as np\n",
    "import pandas as pd\n",
    "\n",
    "all_data_file = '../Dataset/categories_data'\n",
    "train_data_file = '../Dataset/categories_data_train'\n",
    "test_data_file = '../Dataset/categories_data_test'\n",
    "\n",
    "with open(all_data_file, 'rb') as inFile:\n",
    "    data = pickle.load(inFile)\n",
    "with open(train_data_file, 'rb') as inFile:\n",
    "    train_data = pickle.load(inFile)\n",
    "with open(test_data_file, 'rb') as inFile:\n",
    "    test_data = pickle.load(inFile)\n",
    "\n",
    "display(data.head())\n",
    "print(\"train_data.shape: {0}\".format(train_data.shape))\n",
    "print(\"test_data.shape: {0}\".format(test_data.shape))"
   ]
  },
  {
   "cell_type": "markdown",
   "metadata": {},
   "source": [
    "## 2. Transform the categories feature into categorical feature\n",
    "\n",
    "As shown above, the categories column in the original dataset is a dictionary format object. In order to incorporate this feature into our classification model, we need to transform it into categorical feature."
   ]
  },
  {
   "cell_type": "code",
   "execution_count": 2,
   "metadata": {},
   "outputs": [
    {
     "name": "stdout",
     "output_type": "stream",
     "text": [
      "Top 10 ranked categories: \n",
      "  tradamerican:898; American (Traditional):898\n",
      "  pizza:675; Pizza:675\n",
      "  burgers:522; Burgers:522\n",
      "  hotdogs:519; Fast Food:519\n",
      "  italian:496; Italian:496\n",
      "  sandwiches:479; Sandwiches:479\n",
      "  seafood:457; Seafood:457\n",
      "  mexican:422; Mexican:422\n",
      "  newamerican:417; American (New):417\n",
      "  breakfast_brunch:376; Breakfast & Brunch:376\n"
     ]
    }
   ],
   "source": [
    "alias={}\n",
    "titles={}\n",
    "for cates in data.categories:\n",
    "    for cate in cates:\n",
    "        if cate['alias'] in alias.keys():\n",
    "            alias[cate['alias']]+=1\n",
    "        else:\n",
    "            alias[cate['alias']]=1\n",
    "        if cate['title'] in titles.keys():\n",
    "            titles[cate['title']]+=1\n",
    "        else:\n",
    "            titles[cate['title']]=1\n",
    "alias_sorted=sorted(alias.items(), key=lambda d:d[1], reverse=True)\n",
    "titles_sorted=sorted(titles.items(), key=lambda d:d[1], reverse=True)\n",
    "print('Top 10 ranked categories: ')\n",
    "for i in range(10):\n",
    "    print('  '+alias_sorted[i][0]+':'+str(alias_sorted[i][1])+'; '+titles_sorted[i][0]+':'+str(titles_sorted[i][1]))"
   ]
  },
  {
   "cell_type": "code",
   "execution_count": 3,
   "metadata": {},
   "outputs": [
    {
     "name": "stdout",
     "output_type": "stream",
     "text": [
      "Total number of distinct categories: 213\n",
      "['Shanghainese', 'Convenience Stores', 'Seafood', 'Imported Food', 'Fish & Chips', 'Cuban', 'Donuts', 'Salvadoran', 'Bagels', 'Halal', 'Live/Raw Food', 'Peruvian', 'Tapas Bars', 'Dim Sum', 'Gastropubs', 'Southern', 'African', 'Specialty Food', 'French', 'Wine Bars', 'Chicken Shop', 'Dinner Theater', 'Chicken Wings', 'Home & Garden', 'Cocktail Bars', 'New Mexican Cuisine', 'Laser Tag', 'Modern European', 'Burgers', 'Soul Food', 'Cupcakes', 'Social Clubs', 'Gluten-Free', 'Creperies', 'Malaysian', 'Poutineries', 'Food', 'Sports Bars', 'Szechuan', 'Greek', 'Breweries', 'Pubs', 'Pizza', 'German', 'Hot Dogs', 'Teppanyaki', 'Hot Pot', 'Farmers Market', 'Sushi Bars', 'Cigar Bars', 'Barbeque', 'Tuscan', 'Day Spas', 'Seafood Markets', 'Vietnamese', 'Local Flavor', 'Coffee & Tea', 'Restaurants', 'Middle Eastern', 'Indonesian', 'Comedy Clubs', 'Portuguese', 'Mongolian', 'Food Tours', 'Buffets', 'Poke', 'Cheese Shops', 'Ice Cream & Frozen Yogurt', 'Grocery', 'Caterers', 'Food Delivery Services', 'Latin American', 'Cooking Classes', 'South African', 'Gelato', 'Izakaya', 'Tex-Mex', 'Beer Bar', 'Beer Gardens', 'Distilleries', 'Public Art', 'Shaved Ice', 'Salad', 'Venues & Event Spaces', 'Smokehouse', 'Filipino', 'Cinema', 'Flowers & Gifts', 'Antiques', 'Waffles', 'Colombian', 'Custom Cakes', 'Butcher', 'American (Traditional)', 'Tapas/Small Plates', 'International Grocery', 'Moroccan', 'Italian', 'Himalayan/Nepalese', 'Do-It-Yourself Food', 'Fast Food', 'Ramen', 'Desserts', 'Vegan', 'Whiskey Bars', 'Dance Clubs', 'Vegetarian', 'Nurseries & Gardening', 'Japanese', 'Tiki Bars', 'Gift Shops', 'Kosher', 'Pretzels', 'Arcades', 'Bubble Tea', 'Music Venues', 'Honduran', 'Korean', 'Delis', 'Jazz & Blues', 'Florists', 'Dive Bars', 'Food Trucks', 'Indian', 'Wineries', 'Cajun/Creole', 'Tours', 'Persian/Iranian', 'Brasseries', 'Pool Halls', 'Guamanian', 'Japanese Curry', 'Puerto Rican', 'Ethiopian', 'Empanadas', 'Bakeries', 'Caribbean', 'Home Decor', 'CSA', 'Asian Fusion', 'American (New)', 'Golf', 'Juice Bars & Smoothies', 'Brazilian', 'British', 'Brewpubs', 'Coffee Roasteries', 'Meat Shops', 'Hotels', 'Pan Asian', 'Afghan', 'Comfort Food', 'Breakfast & Brunch', 'Candy Stores', 'Hookah Bars', 'Burmese', 'Mexican', 'Boat Charters', 'Thai', 'Internet Cafes', 'Arabian', 'Street Vendors', 'Wraps', 'Lebanese', 'Fruits & Veggies', 'Landmarks & Historical Buildings', 'Fondue', 'Mediterranean', 'Egyptian', 'Organic Stores', 'Bars', 'Active Life', 'Taiwanese', 'Tacos', 'Sandwiches', 'Health Markets', 'Beer, Wine & Spirits', 'Petting Zoos', 'Guest Houses', 'Cheesesteaks', 'Pakistani', 'Chinese', 'Art Galleries', 'Noodles', 'Towing', 'Wine Tasting Room', 'Tea Rooms', 'Irish Pub', 'Dominican', 'Argentine', 'Kebab', 'Lounges', 'Hawaiian', 'Bowling', 'Gas Stations', 'Irish', 'Laotian', 'Karaoke', 'Cantonese', 'Spanish', 'Museums', 'Soup', 'Turkish', 'Cafes', 'Pasta Shops', 'Thrift Stores', 'Food Stands', 'Belgian', 'Diners', 'Steakhouses', 'Bed & Breakfast', 'Bangladeshi', 'Venezuelan']\n"
     ]
    }
   ],
   "source": [
    "title = []\n",
    "for cates in data.categories:\n",
    "    for cate in cates:\n",
    "        title.append(cate['title'])\n",
    "title = list(set(title))\n",
    "print('Total number of distinct categories:',len(title))\n",
    "print(title)"
   ]
  },
  {
   "cell_type": "markdown",
   "metadata": {},
   "source": [
    "Convert the 213 categories into 20 general categories."
   ]
  },
  {
   "cell_type": "code",
   "execution_count": 4,
   "metadata": {
    "collapsed": true
   },
   "outputs": [],
   "source": [
    "food_dict ={\n",
    "'french_food': ['French', 'Creperies', 'Cajun/Creole'],\n",
    "'north_american_food': ['Tex-Mex', 'Colombian','Hawaiian', 'Dominican','American (New)', 'Caribbean', 'American (Traditional)', 'Salvadoran', 'Southern', 'Puerto Rican'],\n",
    "'european_food': ['Portuguese', 'Tuscan','German', 'British', 'Turkish','Italian', 'Mediterranean', 'Belgian', 'Spanish', 'Modern European', 'Irish', 'Poutineries', 'Greek'],\n",
    "'south_american_food': ['Mexican', 'Cuban', 'Peruvian','Latin American', 'Venezuelan', 'Argentine', 'New Mexican Cuisine', 'Honduran', 'Brazilian'],\n",
    "'african_food': ['African', 'South African', 'Moroccan', 'Ethiopian'],\n",
    "'east_asian_food': ['Shanghainese','Chinese','Izakaya', 'Japanese', 'Guamanian','Cantonese','Sushi Bars','Teppanyaki', 'Szechuan', 'Korean','Japanese Curry', 'Hot Pot', 'Taiwanese', 'Fondue'],\n",
    "'south_asian_food': ['Thai','Pakistani', 'Malaysian', 'Bangladeshi','Indonesian', 'Indian',  'Burmese', 'Pan Asian', 'Laotian', 'Filipino', 'Vietnamese','Asian Fusion', 'Himalayan/Nepalese','Mongolian'],\n",
    "'middle_eastern': ['Persian/Iranian', 'Egyptian', 'Middle Eastern', 'Arabian', 'Lebanese', 'Afghan'],\n",
    "'dinner': ['Dinner Theater', 'Diners'],\n",
    "'vegterian': ['Salad', 'Vegan', 'Vegetarian', 'Fruits & Veggies'],\n",
    "'snacks': ['Shaved Ice','Ice Cream & Frozen Yogurt','Bagels', 'Empanadas', 'Cupcakes', 'Tacos', 'Waffles', 'Custom Cakes', 'Desserts', 'Gelato', 'Bakeries', 'Pretzels', 'Donuts'],\n",
    "'seafood': ['Seafood', 'Seafood Markets'],\n",
    "'bars_and_clubs': ['Distilleries', 'Dive Bars', 'Whiskey Bars', 'Beer Gardens', 'Bars', 'Irish Pub', 'Hookah Bars','Brasseries', 'Tapas Bars', 'Wine Tasting Room', 'Breweries', 'Brewpubs','Beer, Wine & Spirits', 'Wine Bars', 'Tiki Bars', 'Wineries', 'Cocktail Bars', 'Beer Bar', 'Pubs'],\n",
    "'steaks': ['Cheesesteaks', 'Steakhouses'],\n",
    "'cafes': ['Cafes', 'Bubble Tea','Tea Rooms','Internet Cafes', 'Coffee & Tea', 'Coffee Roasteries'],\n",
    "'fastfood': ['Fish & Chips', 'Wraps', 'Pizza', 'Burgers', 'Fast Food', 'Sandwiches', 'Hot Dogs'],\n",
    "'street_food': ['Food Stands', 'Food Trucks', 'Street Vendors'],\n",
    "'breakfast': ['Bed & Breakfast', 'Breakfast & Brunch'],\n",
    "'other_service': ['Public Art', 'Golf','Lounges', 'Cooking Classes','Home Decor', 'Boat Charters', 'Pool Halls','Day Spas','Bowling','Music Venues','Petting Zoos', 'Food Delivery Services', 'Karaoke'],\n",
    "'other_food': ['Local Flavor', 'Tapas/Small Plates', 'Dim Sum', 'Buffets', 'Noodles', 'Ramen', 'Barbeque', 'Kebab', 'Poke', 'Kebab', 'Chicken Wings', 'Kosher', 'Juice Bars & Smoothies', 'Halal', 'Specialty Food', 'Live/Raw Food','Do-It-Yourself Food', 'Imported Food','Comfort Food', 'Soul Food','Soup']\n",
    "}"
   ]
  },
  {
   "cell_type": "code",
   "execution_count": 5,
   "metadata": {},
   "outputs": [
    {
     "data": {
      "text/html": [
       "<div>\n",
       "<style scoped>\n",
       "    .dataframe tbody tr th:only-of-type {\n",
       "        vertical-align: middle;\n",
       "    }\n",
       "\n",
       "    .dataframe tbody tr th {\n",
       "        vertical-align: top;\n",
       "    }\n",
       "\n",
       "    .dataframe thead th {\n",
       "        text-align: right;\n",
       "    }\n",
       "</style>\n",
       "<table border=\"1\" class=\"dataframe\">\n",
       "  <thead>\n",
       "    <tr style=\"text-align: right;\">\n",
       "      <th></th>\n",
       "      <th>id</th>\n",
       "      <th>name</th>\n",
       "      <th>rating</th>\n",
       "      <th>review_count</th>\n",
       "      <th>price</th>\n",
       "      <th>french_food</th>\n",
       "      <th>north_american_food</th>\n",
       "      <th>european_food</th>\n",
       "      <th>south_american_food</th>\n",
       "      <th>african_food</th>\n",
       "      <th>...</th>\n",
       "      <th>snacks</th>\n",
       "      <th>seafood</th>\n",
       "      <th>bars_and_clubs</th>\n",
       "      <th>steaks</th>\n",
       "      <th>cafes</th>\n",
       "      <th>fastfood</th>\n",
       "      <th>street_food</th>\n",
       "      <th>breakfast</th>\n",
       "      <th>other_service</th>\n",
       "      <th>other_food</th>\n",
       "    </tr>\n",
       "  </thead>\n",
       "  <tbody>\n",
       "    <tr>\n",
       "      <th>2404</th>\n",
       "      <td>h7_M9pgY_hPdYMJNQdmHBg</td>\n",
       "      <td>Taylor's At Market Square</td>\n",
       "      <td>4.0</td>\n",
       "      <td>11</td>\n",
       "      <td>1</td>\n",
       "      <td>0</td>\n",
       "      <td>1</td>\n",
       "      <td>0</td>\n",
       "      <td>0</td>\n",
       "      <td>0</td>\n",
       "      <td>...</td>\n",
       "      <td>0</td>\n",
       "      <td>0</td>\n",
       "      <td>0</td>\n",
       "      <td>0</td>\n",
       "      <td>0</td>\n",
       "      <td>1</td>\n",
       "      <td>0</td>\n",
       "      <td>0</td>\n",
       "      <td>0</td>\n",
       "      <td>0</td>\n",
       "    </tr>\n",
       "    <tr>\n",
       "      <th>3464</th>\n",
       "      <td>HU37kM5fC1zbchGILJTh3A</td>\n",
       "      <td>Green House Coffee</td>\n",
       "      <td>4.5</td>\n",
       "      <td>37</td>\n",
       "      <td>1</td>\n",
       "      <td>0</td>\n",
       "      <td>0</td>\n",
       "      <td>0</td>\n",
       "      <td>0</td>\n",
       "      <td>0</td>\n",
       "      <td>...</td>\n",
       "      <td>0</td>\n",
       "      <td>0</td>\n",
       "      <td>0</td>\n",
       "      <td>0</td>\n",
       "      <td>1</td>\n",
       "      <td>1</td>\n",
       "      <td>0</td>\n",
       "      <td>0</td>\n",
       "      <td>0</td>\n",
       "      <td>0</td>\n",
       "    </tr>\n",
       "    <tr>\n",
       "      <th>3616</th>\n",
       "      <td>aHo6OehrCJAM228b_2yTOA</td>\n",
       "      <td>Country Cookin</td>\n",
       "      <td>3.0</td>\n",
       "      <td>22</td>\n",
       "      <td>2</td>\n",
       "      <td>0</td>\n",
       "      <td>1</td>\n",
       "      <td>0</td>\n",
       "      <td>0</td>\n",
       "      <td>0</td>\n",
       "      <td>...</td>\n",
       "      <td>0</td>\n",
       "      <td>0</td>\n",
       "      <td>0</td>\n",
       "      <td>0</td>\n",
       "      <td>0</td>\n",
       "      <td>0</td>\n",
       "      <td>0</td>\n",
       "      <td>1</td>\n",
       "      <td>0</td>\n",
       "      <td>1</td>\n",
       "    </tr>\n",
       "    <tr>\n",
       "      <th>4741</th>\n",
       "      <td>m7CIG06JpJdFNJaHb3uIjA</td>\n",
       "      <td>Anatolian Bistro</td>\n",
       "      <td>4.5</td>\n",
       "      <td>156</td>\n",
       "      <td>2</td>\n",
       "      <td>0</td>\n",
       "      <td>0</td>\n",
       "      <td>1</td>\n",
       "      <td>0</td>\n",
       "      <td>0</td>\n",
       "      <td>...</td>\n",
       "      <td>0</td>\n",
       "      <td>0</td>\n",
       "      <td>0</td>\n",
       "      <td>0</td>\n",
       "      <td>0</td>\n",
       "      <td>0</td>\n",
       "      <td>0</td>\n",
       "      <td>0</td>\n",
       "      <td>0</td>\n",
       "      <td>0</td>\n",
       "    </tr>\n",
       "    <tr>\n",
       "      <th>3980</th>\n",
       "      <td>nbdz7uI4WUv11AfSvUpWKg</td>\n",
       "      <td>Ciro's Italian Pizzeria Restaurant</td>\n",
       "      <td>3.5</td>\n",
       "      <td>30</td>\n",
       "      <td>2</td>\n",
       "      <td>0</td>\n",
       "      <td>0</td>\n",
       "      <td>1</td>\n",
       "      <td>0</td>\n",
       "      <td>0</td>\n",
       "      <td>...</td>\n",
       "      <td>0</td>\n",
       "      <td>0</td>\n",
       "      <td>0</td>\n",
       "      <td>0</td>\n",
       "      <td>0</td>\n",
       "      <td>1</td>\n",
       "      <td>0</td>\n",
       "      <td>0</td>\n",
       "      <td>0</td>\n",
       "      <td>0</td>\n",
       "    </tr>\n",
       "  </tbody>\n",
       "</table>\n",
       "<p>5 rows × 25 columns</p>\n",
       "</div>"
      ],
      "text/plain": [
       "                          id                                name  rating  \\\n",
       "2404  h7_M9pgY_hPdYMJNQdmHBg           Taylor's At Market Square     4.0   \n",
       "3464  HU37kM5fC1zbchGILJTh3A                  Green House Coffee     4.5   \n",
       "3616  aHo6OehrCJAM228b_2yTOA                      Country Cookin     3.0   \n",
       "4741  m7CIG06JpJdFNJaHb3uIjA                    Anatolian Bistro     4.5   \n",
       "3980  nbdz7uI4WUv11AfSvUpWKg  Ciro's Italian Pizzeria Restaurant     3.5   \n",
       "\n",
       "      review_count  price  french_food  north_american_food  european_food  \\\n",
       "2404            11      1            0                    1              0   \n",
       "3464            37      1            0                    0              0   \n",
       "3616            22      2            0                    1              0   \n",
       "4741           156      2            0                    0              1   \n",
       "3980            30      2            0                    0              1   \n",
       "\n",
       "      south_american_food  african_food     ...      snacks  seafood  \\\n",
       "2404                    0             0     ...           0        0   \n",
       "3464                    0             0     ...           0        0   \n",
       "3616                    0             0     ...           0        0   \n",
       "4741                    0             0     ...           0        0   \n",
       "3980                    0             0     ...           0        0   \n",
       "\n",
       "      bars_and_clubs  steaks  cafes  fastfood  street_food  breakfast  \\\n",
       "2404               0       0      0         1            0          0   \n",
       "3464               0       0      1         1            0          0   \n",
       "3616               0       0      0         0            0          1   \n",
       "4741               0       0      0         0            0          0   \n",
       "3980               0       0      0         1            0          0   \n",
       "\n",
       "      other_service  other_food  \n",
       "2404              0           0  \n",
       "3464              0           0  \n",
       "3616              0           1  \n",
       "4741              0           0  \n",
       "3980              0           0  \n",
       "\n",
       "[5 rows x 25 columns]"
      ]
     },
     "execution_count": 5,
     "metadata": {},
     "output_type": "execute_result"
    }
   ],
   "source": [
    "for food_cate in food_dict.keys():\n",
    "    food_cate_list = []\n",
    "    for cates in train_data.categories:\n",
    "        num = 0\n",
    "        for cate in cates:\n",
    "            if cate['title'] in food_dict[food_cate]:\n",
    "                num += 1\n",
    "        food_cate_list.append(num)\n",
    "    train_data[food_cate] = food_cate_list\n",
    "train_data = train_data.drop(columns=['categories'])\n",
    "\n",
    "for food_cate in food_dict.keys():\n",
    "    food_cate_list = []\n",
    "    for cates in test_data.categories:\n",
    "        num = 0\n",
    "        for cate in cates:\n",
    "            if cate['title'] in food_dict[food_cate]:\n",
    "                num += 1\n",
    "        food_cate_list.append(num)\n",
    "    test_data[food_cate] = food_cate_list\n",
    "test_data = test_data.drop(columns=['categories'])\n",
    "\n",
    "train_data.head()"
   ]
  },
  {
   "cell_type": "markdown",
   "metadata": {},
   "source": [
    "## 3. Train the classifier with the categorical features\n",
    "\n",
    "In order to prove that the categorical features are useful for our classification model, we train the classifiers with the numerical data combined with the categorical data."
   ]
  },
  {
   "cell_type": "code",
   "execution_count": 6,
   "metadata": {
    "collapsed": true
   },
   "outputs": [],
   "source": [
    "X_train = train_data.drop(columns=['id', 'name', 'price'])\n",
    "y_train = train_data[['price']].values\n",
    "y_train = y_train.ravel()\n",
    "X_test = test_data.drop(columns=['id', 'name', 'price'])\n",
    "y_test = test_data[['price']].values\n",
    "y_test = y_test.ravel()"
   ]
  },
  {
   "cell_type": "code",
   "execution_count": 7,
   "metadata": {},
   "outputs": [
    {
     "name": "stdout",
     "output_type": "stream",
     "text": [
      "BernoulliNB Avg_Acc: 0.6703000534910687\n",
      "DecisionTreeClassifier Avg_Acc: 0.6454136349759517\n"
     ]
    },
    {
     "name": "stderr",
     "output_type": "stream",
     "text": [
      "C:\\Users\\think\\AppData\\Roaming\\Python\\Python36\\site-packages\\sklearn\\svm\\base.py:922: ConvergenceWarning: Liblinear failed to converge, increase the number of iterations.\n",
      "  \"the number of iterations.\", ConvergenceWarning)\n",
      "C:\\Users\\think\\AppData\\Roaming\\Python\\Python36\\site-packages\\sklearn\\svm\\base.py:922: ConvergenceWarning: Liblinear failed to converge, increase the number of iterations.\n",
      "  \"the number of iterations.\", ConvergenceWarning)\n",
      "C:\\Users\\think\\AppData\\Roaming\\Python\\Python36\\site-packages\\sklearn\\svm\\base.py:922: ConvergenceWarning: Liblinear failed to converge, increase the number of iterations.\n",
      "  \"the number of iterations.\", ConvergenceWarning)\n",
      "C:\\Users\\think\\AppData\\Roaming\\Python\\Python36\\site-packages\\sklearn\\svm\\base.py:922: ConvergenceWarning: Liblinear failed to converge, increase the number of iterations.\n",
      "  \"the number of iterations.\", ConvergenceWarning)\n",
      "C:\\Users\\think\\AppData\\Roaming\\Python\\Python36\\site-packages\\sklearn\\svm\\base.py:922: ConvergenceWarning: Liblinear failed to converge, increase the number of iterations.\n",
      "  \"the number of iterations.\", ConvergenceWarning)\n",
      "C:\\Users\\think\\AppData\\Roaming\\Python\\Python36\\site-packages\\sklearn\\svm\\base.py:922: ConvergenceWarning: Liblinear failed to converge, increase the number of iterations.\n",
      "  \"the number of iterations.\", ConvergenceWarning)\n"
     ]
    },
    {
     "name": "stdout",
     "output_type": "stream",
     "text": [
      "LinearSVC Avg_Acc: 0.6954903145028581\n",
      "LogisticRegression Avg_Acc: 0.7184300314833939\n",
      "RandomForestClassifier Avg_Acc: 0.6957085953003129\n",
      "MLPClassifier Avg_Acc: 0.7328301466393242\n"
     ]
    }
   ],
   "source": [
    "from sklearn.naive_bayes import BernoulliNB\n",
    "from sklearn.tree import DecisionTreeClassifier\n",
    "from sklearn.svm import LinearSVC\n",
    "from sklearn.linear_model import LogisticRegression\n",
    "from sklearn.ensemble import RandomForestClassifier\n",
    "from sklearn.neural_network import MLPClassifier\n",
    "from sklearn.model_selection import cross_val_score\n",
    "import numpy as np\n",
    "\n",
    "nb = BernoulliNB()\n",
    "nb.fit(X_train, y_train)\n",
    "nb_scores = cross_val_score(nb, X_train, y_train, cv=5)\n",
    "print('BernoulliNB Avg_Acc:',np.mean(nb_scores))\n",
    "\n",
    "dt = DecisionTreeClassifier()\n",
    "dt.fit(X_train, y_train)\n",
    "dt_scores = cross_val_score(dt, X_train, y_train, cv=5)\n",
    "print('DecisionTreeClassifier Avg_Acc:',np.mean(dt_scores))\n",
    "\n",
    "svc = LinearSVC(multi_class='ovr', max_iter=10000)\n",
    "svc.fit(X_train, y_train)\n",
    "svc_scores = cross_val_score(svc, X_train, y_train, cv=5)\n",
    "print('LinearSVC Avg_Acc:',np.mean(svc_scores))\n",
    "\n",
    "lr = LogisticRegression(solver='newton-cg', multi_class='multinomial')\n",
    "lr.fit(X_train, y_train)\n",
    "lr_scores = cross_val_score(lr, X_train, y_train, cv=5)\n",
    "print('LogisticRegression Avg_Acc:',np.mean(lr_scores))\n",
    "\n",
    "rf = RandomForestClassifier(n_estimators=200)\n",
    "rf.fit(X_train, y_train)\n",
    "rf_scores = cross_val_score(rf, X_train, y_train, cv=5)\n",
    "print('RandomForestClassifier Avg_Acc:', np.mean(rf_scores))\n",
    "\n",
    "nn = MLPClassifier(max_iter=10000)\n",
    "nn.fit(X_train, y_train)\n",
    "nn_scores = cross_val_score(nn, X_train, y_train, cv=5)\n",
    "print('MLPClassifier Avg_Acc:', np.mean(nn_scores))"
   ]
  },
  {
   "cell_type": "markdown",
   "metadata": {},
   "source": [
    "The classification accuracy is improved aftering adding these categorical features, hence we are going to incorporate the categorical data into our classification model."
   ]
  },
  {
   "cell_type": "code",
   "execution_count": 11,
   "metadata": {},
   "outputs": [
    {
     "name": "stdout",
     "output_type": "stream",
     "text": [
      "              precision    recall  f1-score   support\n",
      "\n",
      "           $       0.65      0.70      0.67       392\n",
      "          $$       0.74      0.76      0.75       596\n",
      "         $$$       0.00      0.00      0.00        34\n",
      "        $$$$       0.00      0.00      0.00         2\n",
      "\n",
      "   micro avg       0.71      0.71      0.71      1024\n",
      "   macro avg       0.35      0.36      0.36      1024\n",
      "weighted avg       0.68      0.71      0.69      1024\n",
      "\n",
      "Test Accuracy: 0.7060546875\n"
     ]
    },
    {
     "name": "stderr",
     "output_type": "stream",
     "text": [
      "C:\\Users\\think\\AppData\\Roaming\\Python\\Python36\\site-packages\\sklearn\\metrics\\classification.py:1143: UndefinedMetricWarning: Precision and F-score are ill-defined and being set to 0.0 in labels with no predicted samples.\n",
      "  'precision', 'predicted', average, warn_for)\n"
     ]
    }
   ],
   "source": [
    "from sklearn.metrics import classification_report\n",
    "\n",
    "target_names = ['$', '$$', '$$$', '$$$$']\n",
    "print(classification_report(y_test, nn.predict(X_test), target_names=target_names))\n",
    "print('Test Accuracy:',nn.score(X_test,y_test))"
   ]
  },
  {
   "cell_type": "markdown",
   "metadata": {},
   "source": [
    "## 4. Save the final model and prediction on testing set"
   ]
  },
  {
   "cell_type": "code",
   "execution_count": 9,
   "metadata": {
    "collapsed": true
   },
   "outputs": [],
   "source": [
    "with open('models/category_clf.pickle', 'wb') as f:\n",
    "    pickle.dump(nn, f)"
   ]
  },
  {
   "cell_type": "code",
   "execution_count": 10,
   "metadata": {
    "collapsed": true
   },
   "outputs": [],
   "source": [
    "outs = pd.DataFrame(columns=['id', 'y_pred'])\n",
    "outs['id']=test_data['id']\n",
    "outs['y_pred']=nn.predict(X_test)\n",
    "outs.to_csv('../Dataset/category_preds.csv')"
   ]
  },
  {
   "cell_type": "code",
   "execution_count": null,
   "metadata": {
    "collapsed": true
   },
   "outputs": [],
   "source": []
  }
 ],
 "metadata": {
  "kernelspec": {
   "display_name": "Python 3",
   "language": "python",
   "name": "python3"
  },
  "language_info": {
   "codemirror_mode": {
    "name": "ipython",
    "version": 3
   },
   "file_extension": ".py",
   "mimetype": "text/x-python",
   "name": "python",
   "nbconvert_exporter": "python",
   "pygments_lexer": "ipython3",
   "version": "3.6.3"
  }
 },
 "nbformat": 4,
 "nbformat_minor": 2
}
