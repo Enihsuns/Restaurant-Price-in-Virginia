{
 "cells": [
  {
   "cell_type": "markdown",
   "metadata": {},
   "source": [
    "# Coordinates\n",
    "\n",
    "This file contains the processing of coordinates data in the yelp restaurant dataset.\n",
    "\n",
    "**Goal:** Provide a coordinates_processing function, which can be used in main.ipynb."
   ]
  },
  {
   "cell_type": "markdown",
   "metadata": {},
   "source": [
    "## 1. Get the coordinates dataset\n",
    "\n",
    "The coordinates dataset only contains price, rating, review_count, name, id, coordinates (latitude, longitude) columns. Extraction of this dataset is shown in main.ipynb."
   ]
  },
  {
   "cell_type": "code",
   "execution_count": 1,
   "metadata": {},
   "outputs": [],
   "source": [
    "import pickle\n",
    "import numpy as np\n",
    "import pandas as pd\n",
    "from math import radians, cos, sin, asin, sqrt"
   ]
  },
  {
   "cell_type": "code",
   "execution_count": 2,
   "metadata": {},
   "outputs": [
    {
     "data": {
      "text/html": [
       "<div>\n",
       "<style scoped>\n",
       "    .dataframe tbody tr th:only-of-type {\n",
       "        vertical-align: middle;\n",
       "    }\n",
       "\n",
       "    .dataframe tbody tr th {\n",
       "        vertical-align: top;\n",
       "    }\n",
       "\n",
       "    .dataframe thead th {\n",
       "        text-align: right;\n",
       "    }\n",
       "</style>\n",
       "<table border=\"1\" class=\"dataframe\">\n",
       "  <thead>\n",
       "    <tr style=\"text-align: right;\">\n",
       "      <th></th>\n",
       "      <th>id</th>\n",
       "      <th>name</th>\n",
       "      <th>latitude</th>\n",
       "      <th>longitude</th>\n",
       "      <th>rating</th>\n",
       "      <th>review_count</th>\n",
       "      <th>price</th>\n",
       "    </tr>\n",
       "  </thead>\n",
       "  <tbody>\n",
       "    <tr>\n",
       "      <th>0</th>\n",
       "      <td>bwCj2AcoOroZfCTxb6rCcg</td>\n",
       "      <td>A Better Burger</td>\n",
       "      <td>36.689639</td>\n",
       "      <td>-83.108766</td>\n",
       "      <td>3.5</td>\n",
       "      <td>6</td>\n",
       "      <td>2</td>\n",
       "    </tr>\n",
       "    <tr>\n",
       "      <th>1</th>\n",
       "      <td>S9S9kFJSkmfpbjFForCWLQ</td>\n",
       "      <td>El Castillo</td>\n",
       "      <td>36.726337</td>\n",
       "      <td>-83.099858</td>\n",
       "      <td>4.0</td>\n",
       "      <td>2</td>\n",
       "      <td>1</td>\n",
       "    </tr>\n",
       "    <tr>\n",
       "      <th>2</th>\n",
       "      <td>np8uV1xll22Yr-Q-B-ImkA</td>\n",
       "      <td>Rooster's Pub</td>\n",
       "      <td>36.758436</td>\n",
       "      <td>-83.027057</td>\n",
       "      <td>4.5</td>\n",
       "      <td>4</td>\n",
       "      <td>1</td>\n",
       "    </tr>\n",
       "    <tr>\n",
       "      <th>3</th>\n",
       "      <td>HGY1ojoLu07P_ky2LeRguQ</td>\n",
       "      <td>Redstone Restaurant</td>\n",
       "      <td>36.689259</td>\n",
       "      <td>-82.753040</td>\n",
       "      <td>4.5</td>\n",
       "      <td>3</td>\n",
       "      <td>1</td>\n",
       "    </tr>\n",
       "    <tr>\n",
       "      <th>4</th>\n",
       "      <td>J5XS3VmxnLKhNlpiwDJ-3A</td>\n",
       "      <td>Little Mexico</td>\n",
       "      <td>36.859367</td>\n",
       "      <td>-82.756744</td>\n",
       "      <td>4.0</td>\n",
       "      <td>5</td>\n",
       "      <td>1</td>\n",
       "    </tr>\n",
       "  </tbody>\n",
       "</table>\n",
       "</div>"
      ],
      "text/plain": [
       "                       id                 name   latitude  longitude  rating  \\\n",
       "0  bwCj2AcoOroZfCTxb6rCcg      A Better Burger  36.689639 -83.108766     3.5   \n",
       "1  S9S9kFJSkmfpbjFForCWLQ          El Castillo  36.726337 -83.099858     4.0   \n",
       "2  np8uV1xll22Yr-Q-B-ImkA        Rooster's Pub  36.758436 -83.027057     4.5   \n",
       "3  HGY1ojoLu07P_ky2LeRguQ  Redstone Restaurant  36.689259 -82.753040     4.5   \n",
       "4  J5XS3VmxnLKhNlpiwDJ-3A        Little Mexico  36.859367 -82.756744     4.0   \n",
       "\n",
       "   review_count  price  \n",
       "0             6      2  \n",
       "1             2      1  \n",
       "2             4      1  \n",
       "3             3      1  \n",
       "4             5      1  "
      ]
     },
     "metadata": {},
     "output_type": "display_data"
    },
    {
     "name": "stdout",
     "output_type": "stream",
     "text": [
      "data.shape: (5119, 7)\n"
     ]
    }
   ],
   "source": [
    "data_file = '../Dataset/coordinates_data'\n",
    "\n",
    "with open(data_file, 'rb') as inFile:\n",
    "    data = pickle.load(inFile)\n",
    "\n",
    "display(data.head())\n",
    "print(\"data.shape: {0}\".format(data.shape))"
   ]
  },
  {
   "cell_type": "markdown",
   "metadata": {},
   "source": [
    "## 2. Generate dataset for Gephi\n",
    "\n",
    "Now we are going to consider the relation between restaurants as a undirected network graph. Definition of this graph is listed as follows:\n",
    "\n",
    "**Node:** Each node represents a business, which can be uniquely represented by its id.\n",
    "\n",
    "**Edge:** Each edge $(u, v)$ represents that the business $u$ is a neighbor of $v$ $(u \\neq v)$. Here, we define a parameter, neighbor_dist, as the maximum distance (kilometer) between two neighbors. If the distance of two businesses, $u$ and $v$, is less than neighbor_dist, then we will have edge $(u, v)$ and $(v, u)$.\n",
    "\n",
    "To calculate the distance between two businesses on the earth, we here adopted the Haversine formula. The code is based on [Haversine formula in Python](https://stackoverflow.com/a/4913653/8163369) on StackOverFlow."
   ]
  },
  {
   "cell_type": "code",
   "execution_count": 3,
   "metadata": {},
   "outputs": [],
   "source": [
    "def haversine(lon1, lat1, lon2, lat2):\n",
    "    \"\"\"\n",
    "    Calculate the great circle distance between two points \n",
    "    on the earth (specified in decimal degrees)\n",
    "    \"\"\"\n",
    "    # convert decimal degrees to radians \n",
    "    lon1, lat1, lon2, lat2 = map(radians, [lon1, lat1, lon2, lat2])\n",
    "\n",
    "    # haversine formula \n",
    "    dlon = lon2 - lon1 \n",
    "    dlat = lat2 - lat1 \n",
    "    a = sin(dlat/2)**2 + cos(lat1) * cos(lat2) * sin(dlon/2)**2\n",
    "    c = 2 * asin(sqrt(a)) \n",
    "    r = 6371 # Radius of earth in kilometers. Use 3956 for miles\n",
    "    return c * r"
   ]
  },
  {
   "cell_type": "code",
   "execution_count": 22,
   "metadata": {},
   "outputs": [],
   "source": [
    "neighbor_dist = 0.5 # The maximum distance (kilometer) between two neighbors\n",
    "\n",
    "lats, lons = np.array(data['latitude']), np.array(data['longitude']) # latitude and longitude of businesses\n",
    "num_samples = data.shape[0] # total number of businesses\n",
    "\n",
    "edges = []\n",
    "\n",
    "for i in range(0, num_samples):\n",
    "    for j in range(i + 1, num_samples):\n",
    "        dist = haversine(lons[i], lats[i], lons[j], lats[j])\n",
    "        if(dist < neighbor_dist):\n",
    "            edges.append([i, j, dist + 0.001])\n",
    "            edges.append([j, i, dist + 0.001])"
   ]
  },
  {
   "cell_type": "code",
   "execution_count": 23,
   "metadata": {},
   "outputs": [
    {
     "data": {
      "text/plain": [
       "21978"
      ]
     },
     "execution_count": 23,
     "metadata": {},
     "output_type": "execute_result"
    }
   ],
   "source": [
    "len(edges)"
   ]
  },
  {
   "cell_type": "markdown",
   "metadata": {},
   "source": [
    "**Output nodes and as .csv file:** for use of Gephi."
   ]
  },
  {
   "cell_type": "code",
   "execution_count": 24,
   "metadata": {},
   "outputs": [
    {
     "data": {
      "text/html": [
       "<div>\n",
       "<style scoped>\n",
       "    .dataframe tbody tr th:only-of-type {\n",
       "        vertical-align: middle;\n",
       "    }\n",
       "\n",
       "    .dataframe tbody tr th {\n",
       "        vertical-align: top;\n",
       "    }\n",
       "\n",
       "    .dataframe thead th {\n",
       "        text-align: right;\n",
       "    }\n",
       "</style>\n",
       "<table border=\"1\" class=\"dataframe\">\n",
       "  <thead>\n",
       "    <tr style=\"text-align: right;\">\n",
       "      <th></th>\n",
       "      <th>Source</th>\n",
       "      <th>Target</th>\n",
       "      <th>Weight</th>\n",
       "    </tr>\n",
       "  </thead>\n",
       "  <tbody>\n",
       "    <tr>\n",
       "      <th>0</th>\n",
       "      <td>12</td>\n",
       "      <td>13</td>\n",
       "      <td>0.181609</td>\n",
       "    </tr>\n",
       "    <tr>\n",
       "      <th>1</th>\n",
       "      <td>13</td>\n",
       "      <td>12</td>\n",
       "      <td>0.181609</td>\n",
       "    </tr>\n",
       "    <tr>\n",
       "      <th>2</th>\n",
       "      <td>14</td>\n",
       "      <td>17</td>\n",
       "      <td>0.284748</td>\n",
       "    </tr>\n",
       "    <tr>\n",
       "      <th>3</th>\n",
       "      <td>17</td>\n",
       "      <td>14</td>\n",
       "      <td>0.284748</td>\n",
       "    </tr>\n",
       "    <tr>\n",
       "      <th>4</th>\n",
       "      <td>14</td>\n",
       "      <td>18</td>\n",
       "      <td>0.172542</td>\n",
       "    </tr>\n",
       "  </tbody>\n",
       "</table>\n",
       "</div>"
      ],
      "text/plain": [
       "   Source  Target    Weight\n",
       "0      12      13  0.181609\n",
       "1      13      12  0.181609\n",
       "2      14      17  0.284748\n",
       "3      17      14  0.284748\n",
       "4      14      18  0.172542"
      ]
     },
     "metadata": {},
     "output_type": "display_data"
    },
    {
     "data": {
      "text/html": [
       "<div>\n",
       "<style scoped>\n",
       "    .dataframe tbody tr th:only-of-type {\n",
       "        vertical-align: middle;\n",
       "    }\n",
       "\n",
       "    .dataframe tbody tr th {\n",
       "        vertical-align: top;\n",
       "    }\n",
       "\n",
       "    .dataframe thead th {\n",
       "        text-align: right;\n",
       "    }\n",
       "</style>\n",
       "<table border=\"1\" class=\"dataframe\">\n",
       "  <thead>\n",
       "    <tr style=\"text-align: right;\">\n",
       "      <th></th>\n",
       "      <th>label</th>\n",
       "      <th>name</th>\n",
       "      <th>latitude</th>\n",
       "      <th>longitude</th>\n",
       "      <th>rating</th>\n",
       "      <th>review_count</th>\n",
       "      <th>price</th>\n",
       "      <th>id</th>\n",
       "    </tr>\n",
       "  </thead>\n",
       "  <tbody>\n",
       "    <tr>\n",
       "      <th>0</th>\n",
       "      <td>bwCj2AcoOroZfCTxb6rCcg</td>\n",
       "      <td>A Better Burger</td>\n",
       "      <td>36.689639</td>\n",
       "      <td>-83.108766</td>\n",
       "      <td>3.5</td>\n",
       "      <td>6</td>\n",
       "      <td>2</td>\n",
       "      <td>0</td>\n",
       "    </tr>\n",
       "    <tr>\n",
       "      <th>1</th>\n",
       "      <td>S9S9kFJSkmfpbjFForCWLQ</td>\n",
       "      <td>El Castillo</td>\n",
       "      <td>36.726337</td>\n",
       "      <td>-83.099858</td>\n",
       "      <td>4.0</td>\n",
       "      <td>2</td>\n",
       "      <td>1</td>\n",
       "      <td>1</td>\n",
       "    </tr>\n",
       "    <tr>\n",
       "      <th>2</th>\n",
       "      <td>np8uV1xll22Yr-Q-B-ImkA</td>\n",
       "      <td>Rooster's Pub</td>\n",
       "      <td>36.758436</td>\n",
       "      <td>-83.027057</td>\n",
       "      <td>4.5</td>\n",
       "      <td>4</td>\n",
       "      <td>1</td>\n",
       "      <td>2</td>\n",
       "    </tr>\n",
       "    <tr>\n",
       "      <th>3</th>\n",
       "      <td>HGY1ojoLu07P_ky2LeRguQ</td>\n",
       "      <td>Redstone Restaurant</td>\n",
       "      <td>36.689259</td>\n",
       "      <td>-82.753040</td>\n",
       "      <td>4.5</td>\n",
       "      <td>3</td>\n",
       "      <td>1</td>\n",
       "      <td>3</td>\n",
       "    </tr>\n",
       "    <tr>\n",
       "      <th>4</th>\n",
       "      <td>J5XS3VmxnLKhNlpiwDJ-3A</td>\n",
       "      <td>Little Mexico</td>\n",
       "      <td>36.859367</td>\n",
       "      <td>-82.756744</td>\n",
       "      <td>4.0</td>\n",
       "      <td>5</td>\n",
       "      <td>1</td>\n",
       "      <td>4</td>\n",
       "    </tr>\n",
       "  </tbody>\n",
       "</table>\n",
       "</div>"
      ],
      "text/plain": [
       "                    label                 name   latitude  longitude  rating  \\\n",
       "0  bwCj2AcoOroZfCTxb6rCcg      A Better Burger  36.689639 -83.108766     3.5   \n",
       "1  S9S9kFJSkmfpbjFForCWLQ          El Castillo  36.726337 -83.099858     4.0   \n",
       "2  np8uV1xll22Yr-Q-B-ImkA        Rooster's Pub  36.758436 -83.027057     4.5   \n",
       "3  HGY1ojoLu07P_ky2LeRguQ  Redstone Restaurant  36.689259 -82.753040     4.5   \n",
       "4  J5XS3VmxnLKhNlpiwDJ-3A        Little Mexico  36.859367 -82.756744     4.0   \n",
       "\n",
       "   review_count  price  id  \n",
       "0             6      2   0  \n",
       "1             2      1   1  \n",
       "2             4      1   2  \n",
       "3             3      1   3  \n",
       "4             5      1   4  "
      ]
     },
     "metadata": {},
     "output_type": "display_data"
    }
   ],
   "source": [
    "# Generate edges and nodes dataframe as the requirement of Gephi\n",
    "edges_df = pd.DataFrame(edges, columns=['Source', 'Target', 'Weight'])\n",
    "\n",
    "nodes_df = data.rename(columns={'id': 'label'})\n",
    "nodes_df = nodes_df.assign(id=range(0, num_samples))\n",
    "\n",
    "display(edges_df.head())\n",
    "display(nodes_df.head())"
   ]
  },
  {
   "cell_type": "code",
   "execution_count": 25,
   "metadata": {},
   "outputs": [],
   "source": [
    "# Write dataframes into files\n",
    "nodes_file = './Gephi/coordinates_nodes.csv'\n",
    "edges_file = './Gephi/coordinates_edges.csv'\n",
    "\n",
    "with open(nodes_file, 'w', encoding='utf-8') as outFile:\n",
    "    nodes_df.to_csv(outFile, sep=',', encoding='utf-8', index=False)\n",
    "\n",
    "with open(edges_file, 'w') as outFile:\n",
    "    edges_df.to_csv(outFile, sep=',', encoding='utf-8', index=False)"
   ]
  },
  {
   "cell_type": "code",
   "execution_count": null,
   "metadata": {},
   "outputs": [],
   "source": []
  }
 ],
 "metadata": {
  "kernelspec": {
   "display_name": "Python 3",
   "language": "python",
   "name": "python3"
  },
  "language_info": {
   "codemirror_mode": {
    "name": "ipython",
    "version": 3
   },
   "file_extension": ".py",
   "mimetype": "text/x-python",
   "name": "python",
   "nbconvert_exporter": "python",
   "pygments_lexer": "ipython3",
   "version": "3.6.6"
  }
 },
 "nbformat": 4,
 "nbformat_minor": 2
}
